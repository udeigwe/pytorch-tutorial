{
  "nbformat": 4,
  "nbformat_minor": 0,
  "metadata": {
    "colab": {
      "name": "pytorch_intro.ipynb",
      "provenance": [],
      "authorship_tag": "ABX9TyPaPJ8WQiJjni2uZtt21dWR",
      "include_colab_link": true
    },
    "kernelspec": {
      "name": "python3",
      "display_name": "Python 3"
    }
  },
  "cells": [
    {
      "cell_type": "markdown",
      "metadata": {
        "id": "view-in-github",
        "colab_type": "text"
      },
      "source": [
        "<a href=\"https://colab.research.google.com/github/udeigwe/pytorch_tutorial/blob/main/pytorch_intro.ipynb\" target=\"_parent\"><img src=\"https://colab.research.google.com/assets/colab-badge.svg\" alt=\"Open In Colab\"/></a>"
      ]
    },
    {
      "cell_type": "markdown",
      "metadata": {
        "id": "V9jsnfGJB_WI"
      },
      "source": [
        "# Intro To Pytorch 1\n",
        "\n",
        "\n"
      ]
    },
    {
      "cell_type": "code",
      "metadata": {
        "id": "MtptsPfyCHJH"
      },
      "source": [
        "from __future__ import print_function\n",
        "import torch"
      ],
      "execution_count": 1,
      "outputs": []
    },
    {
      "cell_type": "code",
      "metadata": {
        "id": "WND2lLlpCkb3",
        "outputId": "10215193-a405-41b1-9eb2-31d9ac0fb0d1",
        "colab": {
          "base_uri": "https://localhost:8080/",
          "height": 102
        }
      },
      "source": [
        "x = torch.empty(5,3) #Construct a 5x3 matrix, uninitialized:\n",
        "print(x)"
      ],
      "execution_count": 2,
      "outputs": [
        {
          "output_type": "stream",
          "text": [
            "tensor([[1.2577e-35, 0.0000e+00, 3.3631e-44],\n",
            "        [0.0000e+00,        nan, 0.0000e+00],\n",
            "        [1.1578e+27, 1.1362e+30, 7.1547e+22],\n",
            "        [4.5828e+30, 1.2121e+04, 7.1846e+22],\n",
            "        [9.2198e-39, 7.0374e+22, 4.7270e-36]])\n"
          ],
          "name": "stdout"
        }
      ]
    },
    {
      "cell_type": "code",
      "metadata": {
        "id": "Y6g0s1a8CsQl",
        "outputId": "a59852c9-64c1-483c-d47d-c1ad5c32e381",
        "colab": {
          "base_uri": "https://localhost:8080/",
          "height": 102
        }
      },
      "source": [
        "x = torch.rand(5,3) #Construct a randomly initialized matrix:\n",
        "print(x)\n"
      ],
      "execution_count": 3,
      "outputs": [
        {
          "output_type": "stream",
          "text": [
            "tensor([[0.2701, 0.5192, 0.0432],\n",
            "        [0.9235, 0.9720, 0.4633],\n",
            "        [0.8429, 0.1188, 0.3122],\n",
            "        [0.4407, 0.6742, 0.0691],\n",
            "        [0.9572, 0.3377, 0.9809]])\n"
          ],
          "name": "stdout"
        }
      ]
    },
    {
      "cell_type": "code",
      "metadata": {
        "id": "_rE5Scp_C0jd",
        "outputId": "2220ad3f-9dd7-4dc6-d380-fcd40974da61",
        "colab": {
          "base_uri": "https://localhost:8080/",
          "height": 102
        }
      },
      "source": [
        "x = torch.zeros(5, 3, dtype=torch.long)\n",
        "print(x)"
      ],
      "execution_count": 4,
      "outputs": [
        {
          "output_type": "stream",
          "text": [
            "tensor([[0, 0, 0],\n",
            "        [0, 0, 0],\n",
            "        [0, 0, 0],\n",
            "        [0, 0, 0],\n",
            "        [0, 0, 0]])\n"
          ],
          "name": "stdout"
        }
      ]
    },
    {
      "cell_type": "code",
      "metadata": {
        "id": "1hI0vFxCDYx-",
        "outputId": "3f9a4a7b-e2b5-430f-e71e-9c1bc50eb0c8",
        "colab": {
          "base_uri": "https://localhost:8080/",
          "height": 34
        }
      },
      "source": [
        "#Construct a tensor directly from data:\n",
        "x = torch.tensor([5.5, 3]) \n",
        "print(x)"
      ],
      "execution_count": 5,
      "outputs": [
        {
          "output_type": "stream",
          "text": [
            "tensor([5.5000, 3.0000])\n"
          ],
          "name": "stdout"
        }
      ]
    },
    {
      "cell_type": "code",
      "metadata": {
        "id": "OPEw6JzbDsTi",
        "outputId": "b36a5460-8be2-4b24-e81c-ebf8cb0eec1e",
        "colab": {
          "base_uri": "https://localhost:8080/",
          "height": 102
        }
      },
      "source": [
        "#create a tensor based on an existing tensor\n",
        "x = x.new_ones(5, 3, dtype=torch.double) \n",
        "# new_* methods take in sizes\n",
        "print(x)\n"
      ],
      "execution_count": 6,
      "outputs": [
        {
          "output_type": "stream",
          "text": [
            "tensor([[1., 1., 1.],\n",
            "        [1., 1., 1.],\n",
            "        [1., 1., 1.],\n",
            "        [1., 1., 1.],\n",
            "        [1., 1., 1.]], dtype=torch.float64)\n"
          ],
          "name": "stdout"
        }
      ]
    },
    {
      "cell_type": "code",
      "metadata": {
        "id": "G_tWXRROEGH9",
        "outputId": "6a24bdfa-a6d5-451d-bfb9-bb757222e044",
        "colab": {
          "base_uri": "https://localhost:8080/",
          "height": 102
        }
      },
      "source": [
        "# override dtype!\n",
        "x = torch.randn_like(x, dtype=torch.float) \n",
        "print(x) \n",
        "# result has the same size"
      ],
      "execution_count": 7,
      "outputs": [
        {
          "output_type": "stream",
          "text": [
            "tensor([[ 0.3267, -2.5566, -1.6583],\n",
            "        [-0.0174, -0.5936, -0.7456],\n",
            "        [-0.1317,  0.2532, -0.5447],\n",
            "        [ 0.4672,  0.7333, -0.3549],\n",
            "        [-0.3527,  0.9021,  1.1750]])\n"
          ],
          "name": "stdout"
        }
      ]
    },
    {
      "cell_type": "code",
      "metadata": {
        "id": "-4k-FAqHERms",
        "outputId": "e3c529a3-d798-45fb-b795-100efa5ca309",
        "colab": {
          "base_uri": "https://localhost:8080/",
          "height": 34
        }
      },
      "source": [
        "# Get its size:\n",
        "print(x.size())"
      ],
      "execution_count": 8,
      "outputs": [
        {
          "output_type": "stream",
          "text": [
            "torch.Size([5, 3])\n"
          ],
          "name": "stdout"
        }
      ]
    },
    {
      "cell_type": "markdown",
      "metadata": {
        "id": "YhQ2YrybITHz"
      },
      "source": [
        "### Operations"
      ]
    },
    {
      "cell_type": "code",
      "metadata": {
        "id": "Xls-4OoUHimz",
        "outputId": "0adc4227-ad1a-4b80-cd2f-52678211d35e",
        "colab": {
          "base_uri": "https://localhost:8080/",
          "height": 102
        }
      },
      "source": [
        "#addition -- syntax 1\n",
        "y = torch.rand(5,3)\n",
        "print(x+y)"
      ],
      "execution_count": 9,
      "outputs": [
        {
          "output_type": "stream",
          "text": [
            "tensor([[ 0.6339, -2.2152, -1.0605],\n",
            "        [ 0.2632, -0.3237, -0.6652],\n",
            "        [ 0.1264,  0.8003, -0.5426],\n",
            "        [ 1.4276,  0.8002,  0.1425],\n",
            "        [-0.2581,  1.7385,  2.1066]])\n"
          ],
          "name": "stdout"
        }
      ]
    },
    {
      "cell_type": "code",
      "metadata": {
        "id": "8L8qkWrTIoJk",
        "outputId": "6c001647-e9c8-42e8-c974-fe6499d867d2",
        "colab": {
          "base_uri": "https://localhost:8080/",
          "height": 102
        }
      },
      "source": [
        "#addition -- syntax 2\n",
        "print(torch.add(x, y))"
      ],
      "execution_count": 10,
      "outputs": [
        {
          "output_type": "stream",
          "text": [
            "tensor([[ 0.6339, -2.2152, -1.0605],\n",
            "        [ 0.2632, -0.3237, -0.6652],\n",
            "        [ 0.1264,  0.8003, -0.5426],\n",
            "        [ 1.4276,  0.8002,  0.1425],\n",
            "        [-0.2581,  1.7385,  2.1066]])\n"
          ],
          "name": "stdout"
        }
      ]
    },
    {
      "cell_type": "code",
      "metadata": {
        "id": "lUIUfBQgI5s0",
        "outputId": "2d10d557-0d4f-4382-c831-5fa776e0b2e5",
        "colab": {
          "base_uri": "https://localhost:8080/",
          "height": 102
        }
      },
      "source": [
        "# providing an output tensor as argument -- syntax 3\n",
        "result = torch.empty(5, 3)\n",
        "torch.add(x, y, out=result)\n",
        "print(result)"
      ],
      "execution_count": 11,
      "outputs": [
        {
          "output_type": "stream",
          "text": [
            "tensor([[ 0.6339, -2.2152, -1.0605],\n",
            "        [ 0.2632, -0.3237, -0.6652],\n",
            "        [ 0.1264,  0.8003, -0.5426],\n",
            "        [ 1.4276,  0.8002,  0.1425],\n",
            "        [-0.2581,  1.7385,  2.1066]])\n"
          ],
          "name": "stdout"
        }
      ]
    },
    {
      "cell_type": "code",
      "metadata": {
        "id": "a5msq5goJaUL",
        "outputId": "cba44475-0e86-44b6-fb64-84e3fac6446d",
        "colab": {
          "base_uri": "https://localhost:8080/",
          "height": 102
        }
      },
      "source": [
        "# adds x to y -- syntax 4\n",
        "y.add_(x)\n",
        "print(y)"
      ],
      "execution_count": 12,
      "outputs": [
        {
          "output_type": "stream",
          "text": [
            "tensor([[ 0.6339, -2.2152, -1.0605],\n",
            "        [ 0.2632, -0.3237, -0.6652],\n",
            "        [ 0.1264,  0.8003, -0.5426],\n",
            "        [ 1.4276,  0.8002,  0.1425],\n",
            "        [-0.2581,  1.7385,  2.1066]])\n"
          ],
          "name": "stdout"
        }
      ]
    },
    {
      "cell_type": "markdown",
      "metadata": {
        "id": "muMk91XEKnVI"
      },
      "source": [
        "Note: Any operation that mutates a tensor in-place is post-fixed with an _. For example: x.copy_(y), x.t_(), will change x."
      ]
    },
    {
      "cell_type": "code",
      "metadata": {
        "id": "1j4dq6lfJdV9",
        "outputId": "7670efb5-8f2a-4b03-cd3d-36d39929b44f",
        "colab": {
          "base_uri": "https://localhost:8080/",
          "height": 34
        }
      },
      "source": [
        "print(x[:,1])"
      ],
      "execution_count": 13,
      "outputs": [
        {
          "output_type": "stream",
          "text": [
            "tensor([-2.5566, -0.5936,  0.2532,  0.7333,  0.9021])\n"
          ],
          "name": "stdout"
        }
      ]
    },
    {
      "cell_type": "code",
      "metadata": {
        "id": "ffLq-cRoYh5H",
        "outputId": "68ddc238-1e45-49c1-9ed7-66728819e020",
        "colab": {
          "base_uri": "https://localhost:8080/",
          "height": 85
        }
      },
      "source": [
        "# If you want to resize/reshape tensor, you can use torch.view:\n",
        "x = torch.randn(4, 4)\n",
        "print(x)"
      ],
      "execution_count": 14,
      "outputs": [
        {
          "output_type": "stream",
          "text": [
            "tensor([[ 0.7045,  1.0545, -2.1450,  1.2747],\n",
            "        [-0.9232, -0.7119,  0.5889, -1.9858],\n",
            "        [-0.0884, -2.4562, -0.1763,  0.4223],\n",
            "        [-1.9431,  0.7589, -0.0087,  0.1290]])\n"
          ],
          "name": "stdout"
        }
      ]
    },
    {
      "cell_type": "code",
      "metadata": {
        "id": "CGlhQcIOZFgE",
        "outputId": "47c9dbaa-511d-4512-a395-2e23358e1fba",
        "colab": {
          "base_uri": "https://localhost:8080/",
          "height": 71
        }
      },
      "source": [
        "y = x.view(16)\n",
        "print(y)\n"
      ],
      "execution_count": 15,
      "outputs": [
        {
          "output_type": "stream",
          "text": [
            "tensor([ 0.7045,  1.0545, -2.1450,  1.2747, -0.9232, -0.7119,  0.5889, -1.9858,\n",
            "        -0.0884, -2.4562, -0.1763,  0.4223, -1.9431,  0.7589, -0.0087,  0.1290])\n"
          ],
          "name": "stdout"
        }
      ]
    },
    {
      "cell_type": "code",
      "metadata": {
        "id": "sMNSXjRVaEnQ",
        "outputId": "81314fcb-0967-4adf-9bfc-1f78f33ea148",
        "colab": {
          "base_uri": "https://localhost:8080/",
          "height": 71
        }
      },
      "source": [
        "z = x.view(-1, 8)  # the size -1 is inferred from other dimensions\n",
        "print(z)"
      ],
      "execution_count": 16,
      "outputs": [
        {
          "output_type": "stream",
          "text": [
            "tensor([[ 0.7045,  1.0545, -2.1450,  1.2747, -0.9232, -0.7119,  0.5889, -1.9858],\n",
            "        [-0.0884, -2.4562, -0.1763,  0.4223, -1.9431,  0.7589, -0.0087,  0.1290]])\n"
          ],
          "name": "stdout"
        }
      ]
    },
    {
      "cell_type": "code",
      "metadata": {
        "id": "piQX4A2HaSsQ",
        "outputId": "6205d793-a3a5-4ed2-8c49-037b4ceb944d",
        "colab": {
          "base_uri": "https://localhost:8080/",
          "height": 34
        }
      },
      "source": [
        "print(x.size(), y.size(), z.size())"
      ],
      "execution_count": 17,
      "outputs": [
        {
          "output_type": "stream",
          "text": [
            "torch.Size([4, 4]) torch.Size([16]) torch.Size([2, 8])\n"
          ],
          "name": "stdout"
        }
      ]
    },
    {
      "cell_type": "markdown",
      "metadata": {
        "id": "k5YOu2mucOkD"
      },
      "source": [
        "### Numpy Bridge"
      ]
    },
    {
      "cell_type": "markdown",
      "metadata": {
        "id": "GkP6pg8qdcRg"
      },
      "source": [
        "##### Converting a Torch Tensor to a NumPy Array"
      ]
    },
    {
      "cell_type": "code",
      "metadata": {
        "id": "zGU4YYAVagDv",
        "outputId": "039d0abf-74d8-4d4d-dc7c-be24bd6c4d82",
        "colab": {
          "base_uri": "https://localhost:8080/",
          "height": 34
        }
      },
      "source": [
        "#Converting a Torch Tensor to a NumPy Array\n",
        "\n",
        "a= torch.ones(5)\n",
        "print(a)"
      ],
      "execution_count": 18,
      "outputs": [
        {
          "output_type": "stream",
          "text": [
            "tensor([1., 1., 1., 1., 1.])\n"
          ],
          "name": "stdout"
        }
      ]
    },
    {
      "cell_type": "code",
      "metadata": {
        "id": "hVm_ML65coG0",
        "outputId": "4d6384d3-cd99-4cd0-a91c-fadb4a823ff9",
        "colab": {
          "base_uri": "https://localhost:8080/",
          "height": 34
        }
      },
      "source": [
        "b=a.numpy()\n",
        "print(b)"
      ],
      "execution_count": 19,
      "outputs": [
        {
          "output_type": "stream",
          "text": [
            "[1. 1. 1. 1. 1.]\n"
          ],
          "name": "stdout"
        }
      ]
    },
    {
      "cell_type": "code",
      "metadata": {
        "id": "0nAdyPodcrum",
        "outputId": "a6b12a75-309f-46f1-ecf0-71b42bb02024",
        "colab": {
          "base_uri": "https://localhost:8080/",
          "height": 51
        }
      },
      "source": [
        "a.add_(1)\n",
        "print(a)\n",
        "print(b)"
      ],
      "execution_count": 20,
      "outputs": [
        {
          "output_type": "stream",
          "text": [
            "tensor([2., 2., 2., 2., 2.])\n",
            "[2. 2. 2. 2. 2.]\n"
          ],
          "name": "stdout"
        }
      ]
    },
    {
      "cell_type": "markdown",
      "metadata": {
        "id": "a7xkzBiudiQi"
      },
      "source": [
        "##### Converting NumPy Array to Torch Tensor"
      ]
    },
    {
      "cell_type": "code",
      "metadata": {
        "id": "tdNTPWhWc3Jg",
        "outputId": "aa8dffbb-8aa5-40cc-ffb2-6b8bb1ff1d41",
        "colab": {
          "base_uri": "https://localhost:8080/",
          "height": 51
        }
      },
      "source": [
        "import numpy as np\n",
        "a = np.ones(5)\n",
        "b = torch.from_numpy(a)\n",
        "np.add(a, 1, out=a)\n",
        "print(a)\n",
        "print(b)"
      ],
      "execution_count": 21,
      "outputs": [
        {
          "output_type": "stream",
          "text": [
            "[2. 2. 2. 2. 2.]\n",
            "tensor([2., 2., 2., 2., 2.], dtype=torch.float64)\n"
          ],
          "name": "stdout"
        }
      ]
    },
    {
      "cell_type": "markdown",
      "metadata": {
        "id": "hl5r2ZdLeFF-"
      },
      "source": [
        "### CUDA Tensors\n",
        "Tensors can be moved onto any device using the .to method."
      ]
    },
    {
      "cell_type": "code",
      "metadata": {
        "id": "8LJXi_9bd0c_"
      },
      "source": [
        "# let us run this cell only if CUDA is available\n",
        "# We will use ``torch.device`` objects to move tensors in and out of GPU\n",
        "if torch.cuda.is_available():\n",
        "    device = torch.device(\"cuda\")          # a CUDA device object\n",
        "    y = torch.ones_like(x, device=device)  # directly create a tensor on GPU\n",
        "    x = x.to(device)                       # or just use strings ``.to(\"cuda\")``\n",
        "    z = x + y\n",
        "    print(z)\n",
        "    print(z.to(\"cpu\", torch.double))       # ``.to`` can also change dtype together!"
      ],
      "execution_count": 22,
      "outputs": []
    },
    {
      "cell_type": "code",
      "metadata": {
        "id": "-GpJUf6Vp8OI",
        "outputId": "5dd28e08-0534-4691-ef6c-8565ac26022a",
        "colab": {
          "base_uri": "https://localhost:8080/",
          "height": 71
        }
      },
      "source": [
        "print(z)"
      ],
      "execution_count": 23,
      "outputs": [
        {
          "output_type": "stream",
          "text": [
            "tensor([[ 0.7045,  1.0545, -2.1450,  1.2747, -0.9232, -0.7119,  0.5889, -1.9858],\n",
            "        [-0.0884, -2.4562, -0.1763,  0.4223, -1.9431,  0.7589, -0.0087,  0.1290]])\n"
          ],
          "name": "stdout"
        }
      ]
    },
    {
      "cell_type": "code",
      "metadata": {
        "id": "YD4cHRp9qI--"
      },
      "source": [
        ""
      ],
      "execution_count": 23,
      "outputs": []
    }
  ]
}