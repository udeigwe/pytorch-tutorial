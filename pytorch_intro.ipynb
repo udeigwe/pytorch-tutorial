{
  "nbformat": 4,
  "nbformat_minor": 0,
  "metadata": {
    "colab": {
      "name": "pytorch_intro.ipynb",
      "provenance": [],
      "authorship_tag": "ABX9TyPaPJ8WQiJjni2uZtt21dWR",
      "include_colab_link": true
    },
    "kernelspec": {
      "name": "python3",
      "display_name": "Python 3"
    }
  },
  "cells": [
    {
      "cell_type": "markdown",
      "metadata": {
        "id": "view-in-github",
        "colab_type": "text"
      },
      "source": [
        "<a href=\"https://colab.research.google.com/github/udeigwe/pytorch_tutorial/blob/main/pytorch_intro.ipynb\" target=\"_parent\"><img src=\"https://colab.research.google.com/assets/colab-badge.svg\" alt=\"Open In Colab\"/></a>"
      ]
    },
    {
      "cell_type": "markdown",
      "metadata": {
        "id": "V9jsnfGJB_WI"
      },
      "source": [
        "# Intro To Pytorch 1\n",
        "\n",
        "\n"
      ]
    },
    {
      "cell_type": "code",
      "metadata": {
        "id": "MtptsPfyCHJH"
      },
      "source": [
        "from __future__ import print_function\n",
        "import torch"
      ],
      "execution_count": null,
      "outputs": []
    },
    {
      "cell_type": "code",
      "metadata": {
        "id": "WND2lLlpCkb3",
        "outputId": "34cbb623-e997-4769-c78d-7c6b73dc5b89",
        "colab": {
          "base_uri": "https://localhost:8080/",
          "height": 102
        }
      },
      "source": [
        "x = torch.empty(5,3) #Construct a 5x3 matrix, uninitialized:\n",
        "print(x)"
      ],
      "execution_count": null,
      "outputs": [
        {
          "output_type": "stream",
          "text": [
            "tensor([[4.2923e-35, 0.0000e+00, 1.3571e+28],\n",
            "        [1.7258e+25, 1.2077e+33, 2.6908e+20],\n",
            "        [2.9758e+29, 2.6219e+20, 1.8524e+28],\n",
            "        [7.5031e+28, 6.9776e+22, 6.7121e-07],\n",
            "        [4.1486e-08, 1.0299e-11, 3.5674e-41]])\n"
          ],
          "name": "stdout"
        }
      ]
    },
    {
      "cell_type": "code",
      "metadata": {
        "id": "Y6g0s1a8CsQl",
        "outputId": "18df5918-cc1d-43a7-d9cd-71799e7593a9",
        "colab": {
          "base_uri": "https://localhost:8080/",
          "height": 102
        }
      },
      "source": [
        "x = torch.rand(5,3) #Construct a randomly initialized matrix:\n",
        "print(x)\n"
      ],
      "execution_count": null,
      "outputs": [
        {
          "output_type": "stream",
          "text": [
            "tensor([[0.8648, 0.5652, 0.0966],\n",
            "        [0.4120, 0.5201, 0.8209],\n",
            "        [0.1810, 0.4284, 0.3114],\n",
            "        [0.2737, 0.4763, 0.1196],\n",
            "        [0.5918, 0.5737, 0.2426]])\n"
          ],
          "name": "stdout"
        }
      ]
    },
    {
      "cell_type": "code",
      "metadata": {
        "id": "_rE5Scp_C0jd",
        "outputId": "cb3b992b-5f5a-4150-fd5c-f7c530ca81ea",
        "colab": {
          "base_uri": "https://localhost:8080/",
          "height": 102
        }
      },
      "source": [
        "x = torch.zeros(5, 3, dtype=torch.long)\n",
        "print(x)"
      ],
      "execution_count": null,
      "outputs": [
        {
          "output_type": "stream",
          "text": [
            "tensor([[0, 0, 0],\n",
            "        [0, 0, 0],\n",
            "        [0, 0, 0],\n",
            "        [0, 0, 0],\n",
            "        [0, 0, 0]])\n"
          ],
          "name": "stdout"
        }
      ]
    },
    {
      "cell_type": "code",
      "metadata": {
        "id": "1hI0vFxCDYx-",
        "outputId": "1675547e-cdb4-4ddc-a430-be6a2e678c2e",
        "colab": {
          "base_uri": "https://localhost:8080/",
          "height": 34
        }
      },
      "source": [
        "#Construct a tensor directly from data:\n",
        "x = torch.tensor([5.5, 3]) \n",
        "print(x)"
      ],
      "execution_count": null,
      "outputs": [
        {
          "output_type": "stream",
          "text": [
            "tensor([5.5000, 3.0000])\n"
          ],
          "name": "stdout"
        }
      ]
    },
    {
      "cell_type": "code",
      "metadata": {
        "id": "OPEw6JzbDsTi",
        "outputId": "4e6c6d99-c027-4123-9f72-4ba29a179f6b",
        "colab": {
          "base_uri": "https://localhost:8080/",
          "height": 102
        }
      },
      "source": [
        "#create a tensor based on an existing tensor\n",
        "x = x.new_ones(5, 3, dtype=torch.double) \n",
        "# new_* methods take in sizes\n",
        "print(x)\n"
      ],
      "execution_count": null,
      "outputs": [
        {
          "output_type": "stream",
          "text": [
            "tensor([[1., 1., 1.],\n",
            "        [1., 1., 1.],\n",
            "        [1., 1., 1.],\n",
            "        [1., 1., 1.],\n",
            "        [1., 1., 1.]], dtype=torch.float64)\n"
          ],
          "name": "stdout"
        }
      ]
    },
    {
      "cell_type": "code",
      "metadata": {
        "id": "G_tWXRROEGH9",
        "outputId": "b28a47ce-ccd6-4f7c-988e-50d287f21224",
        "colab": {
          "base_uri": "https://localhost:8080/",
          "height": 102
        }
      },
      "source": [
        "# override dtype!\n",
        "x = torch.randn_like(x, dtype=torch.float) \n",
        "print(x) \n",
        "# result has the same size"
      ],
      "execution_count": null,
      "outputs": [
        {
          "output_type": "stream",
          "text": [
            "tensor([[-0.5265,  0.5548, -0.9632],\n",
            "        [ 0.6938, -1.0407, -2.6610],\n",
            "        [ 0.2599,  0.7251,  0.6694],\n",
            "        [ 0.7456,  0.7055, -0.9831],\n",
            "        [-1.1002,  0.1346, -1.4417]])\n"
          ],
          "name": "stdout"
        }
      ]
    },
    {
      "cell_type": "code",
      "metadata": {
        "id": "-4k-FAqHERms",
        "outputId": "f10f4bc3-021f-4518-9474-3f422879ecf0",
        "colab": {
          "base_uri": "https://localhost:8080/",
          "height": 34
        }
      },
      "source": [
        "# Get its size:\n",
        "print(x.size())"
      ],
      "execution_count": null,
      "outputs": [
        {
          "output_type": "stream",
          "text": [
            "torch.Size([5, 3])\n"
          ],
          "name": "stdout"
        }
      ]
    },
    {
      "cell_type": "markdown",
      "metadata": {
        "id": "YhQ2YrybITHz"
      },
      "source": [
        "### Operations"
      ]
    },
    {
      "cell_type": "code",
      "metadata": {
        "id": "Xls-4OoUHimz",
        "outputId": "532ae88c-08c1-4210-9834-5995dd43e93a",
        "colab": {
          "base_uri": "https://localhost:8080/",
          "height": 102
        }
      },
      "source": [
        "#addition -- syntax 1\n",
        "y = torch.rand(5,3)\n",
        "print(x+y)"
      ],
      "execution_count": null,
      "outputs": [
        {
          "output_type": "stream",
          "text": [
            "tensor([[-0.4827,  1.2482, -0.6567],\n",
            "        [ 1.4953, -0.9978, -2.0027],\n",
            "        [ 0.8277,  1.4551,  1.5901],\n",
            "        [ 1.2576,  1.5588, -0.6706],\n",
            "        [-0.7721,  0.9579, -0.9394]])\n"
          ],
          "name": "stdout"
        }
      ]
    },
    {
      "cell_type": "code",
      "metadata": {
        "id": "8L8qkWrTIoJk",
        "outputId": "a97cab2b-7e8b-459d-bfc1-14cab72efa43",
        "colab": {
          "base_uri": "https://localhost:8080/",
          "height": 102
        }
      },
      "source": [
        "#addition -- syntax 2\n",
        "print(torch.add(x, y))"
      ],
      "execution_count": null,
      "outputs": [
        {
          "output_type": "stream",
          "text": [
            "tensor([[-0.4827,  1.2482, -0.6567],\n",
            "        [ 1.4953, -0.9978, -2.0027],\n",
            "        [ 0.8277,  1.4551,  1.5901],\n",
            "        [ 1.2576,  1.5588, -0.6706],\n",
            "        [-0.7721,  0.9579, -0.9394]])\n"
          ],
          "name": "stdout"
        }
      ]
    },
    {
      "cell_type": "code",
      "metadata": {
        "id": "lUIUfBQgI5s0",
        "outputId": "6be57310-21af-4750-db02-8bf3dc602443",
        "colab": {
          "base_uri": "https://localhost:8080/",
          "height": 102
        }
      },
      "source": [
        "# providing an output tensor as argument -- syntax 3\n",
        "result = torch.empty(5, 3)\n",
        "torch.add(x, y, out=result)\n",
        "print(result)"
      ],
      "execution_count": null,
      "outputs": [
        {
          "output_type": "stream",
          "text": [
            "tensor([[-0.4827,  1.2482, -0.6567],\n",
            "        [ 1.4953, -0.9978, -2.0027],\n",
            "        [ 0.8277,  1.4551,  1.5901],\n",
            "        [ 1.2576,  1.5588, -0.6706],\n",
            "        [-0.7721,  0.9579, -0.9394]])\n"
          ],
          "name": "stdout"
        }
      ]
    },
    {
      "cell_type": "code",
      "metadata": {
        "id": "a5msq5goJaUL",
        "outputId": "237f9c59-806c-429a-a691-2e48334794ad",
        "colab": {
          "base_uri": "https://localhost:8080/",
          "height": 102
        }
      },
      "source": [
        "# adds x to y -- syntax 4\n",
        "y.add_(x)\n",
        "print(y)"
      ],
      "execution_count": null,
      "outputs": [
        {
          "output_type": "stream",
          "text": [
            "tensor([[-0.4827,  1.2482, -0.6567],\n",
            "        [ 1.4953, -0.9978, -2.0027],\n",
            "        [ 0.8277,  1.4551,  1.5901],\n",
            "        [ 1.2576,  1.5588, -0.6706],\n",
            "        [-0.7721,  0.9579, -0.9394]])\n"
          ],
          "name": "stdout"
        }
      ]
    },
    {
      "cell_type": "markdown",
      "metadata": {
        "id": "muMk91XEKnVI"
      },
      "source": [
        "Note: Any operation that mutates a tensor in-place is post-fixed with an _. For example: x.copy_(y), x.t_(), will change x."
      ]
    },
    {
      "cell_type": "code",
      "metadata": {
        "id": "1j4dq6lfJdV9",
        "outputId": "85f6b522-8ab4-4518-905f-51be5d6b4a79",
        "colab": {
          "base_uri": "https://localhost:8080/",
          "height": 34
        }
      },
      "source": [
        "print(x[:,1])"
      ],
      "execution_count": null,
      "outputs": [
        {
          "output_type": "stream",
          "text": [
            "tensor([ 0.5548, -1.0407,  0.7251,  0.7055,  0.1346])\n"
          ],
          "name": "stdout"
        }
      ]
    },
    {
      "cell_type": "code",
      "metadata": {
        "id": "ffLq-cRoYh5H",
        "outputId": "63bd7b82-1b8c-4647-b079-52c1308abd69",
        "colab": {
          "base_uri": "https://localhost:8080/",
          "height": 85
        }
      },
      "source": [
        "# If you want to resize/reshape tensor, you can use torch.view:\n",
        "x = torch.randn(4, 4)\n",
        "print(x)"
      ],
      "execution_count": null,
      "outputs": [
        {
          "output_type": "stream",
          "text": [
            "tensor([[ 0.1881, -0.7081, -0.3245,  0.1548],\n",
            "        [ 0.9866,  0.1113, -0.7331,  0.6774],\n",
            "        [ 0.9803,  0.1498,  0.1074, -1.7490],\n",
            "        [ 0.5579, -0.4199, -0.2811, -1.0627]])\n"
          ],
          "name": "stdout"
        }
      ]
    },
    {
      "cell_type": "code",
      "metadata": {
        "id": "CGlhQcIOZFgE",
        "outputId": "ab35d043-8e99-4d66-f634-c4853c95f8d5",
        "colab": {
          "base_uri": "https://localhost:8080/",
          "height": 71
        }
      },
      "source": [
        "y = x.view(16)\n",
        "print(y)\n"
      ],
      "execution_count": null,
      "outputs": [
        {
          "output_type": "stream",
          "text": [
            "tensor([ 0.1881, -0.7081, -0.3245,  0.1548,  0.9866,  0.1113, -0.7331,  0.6774,\n",
            "         0.9803,  0.1498,  0.1074, -1.7490,  0.5579, -0.4199, -0.2811, -1.0627])\n"
          ],
          "name": "stdout"
        }
      ]
    },
    {
      "cell_type": "code",
      "metadata": {
        "id": "sMNSXjRVaEnQ",
        "outputId": "bba74166-1d54-4a5c-b59d-5f5072e41052",
        "colab": {
          "base_uri": "https://localhost:8080/",
          "height": 71
        }
      },
      "source": [
        "z = x.view(-1, 8)  # the size -1 is inferred from other dimensions\n",
        "print(z)"
      ],
      "execution_count": null,
      "outputs": [
        {
          "output_type": "stream",
          "text": [
            "tensor([[ 0.1881, -0.7081, -0.3245,  0.1548,  0.9866,  0.1113, -0.7331,  0.6774],\n",
            "        [ 0.9803,  0.1498,  0.1074, -1.7490,  0.5579, -0.4199, -0.2811, -1.0627]])\n"
          ],
          "name": "stdout"
        }
      ]
    },
    {
      "cell_type": "code",
      "metadata": {
        "id": "piQX4A2HaSsQ",
        "outputId": "75b6300b-97a0-4a23-ff03-2f8c614aa61c",
        "colab": {
          "base_uri": "https://localhost:8080/",
          "height": 34
        }
      },
      "source": [
        "print(x.size(), y.size(), z.size())"
      ],
      "execution_count": null,
      "outputs": [
        {
          "output_type": "stream",
          "text": [
            "torch.Size([4, 4]) torch.Size([16]) torch.Size([2, 8])\n"
          ],
          "name": "stdout"
        }
      ]
    },
    {
      "cell_type": "markdown",
      "metadata": {
        "id": "k5YOu2mucOkD"
      },
      "source": [
        "### Numpy Bridge"
      ]
    },
    {
      "cell_type": "markdown",
      "metadata": {
        "id": "GkP6pg8qdcRg"
      },
      "source": [
        "##### Converting a Torch Tensor to a NumPy Array"
      ]
    },
    {
      "cell_type": "code",
      "metadata": {
        "id": "zGU4YYAVagDv",
        "outputId": "1bd3a32d-72af-43f7-fdf1-dd26236a7662",
        "colab": {
          "base_uri": "https://localhost:8080/",
          "height": 34
        }
      },
      "source": [
        "#Converting a Torch Tensor to a NumPy Array\n",
        "\n",
        "a= torch.ones(5)\n",
        "print(a)"
      ],
      "execution_count": null,
      "outputs": [
        {
          "output_type": "stream",
          "text": [
            "tensor([1., 1., 1., 1., 1.])\n"
          ],
          "name": "stdout"
        }
      ]
    },
    {
      "cell_type": "code",
      "metadata": {
        "id": "hVm_ML65coG0",
        "outputId": "ba03e137-64ea-4a57-b763-458dfd2c051d",
        "colab": {
          "base_uri": "https://localhost:8080/",
          "height": 34
        }
      },
      "source": [
        "b=a.numpy()\n",
        "print(b)"
      ],
      "execution_count": null,
      "outputs": [
        {
          "output_type": "stream",
          "text": [
            "[1. 1. 1. 1. 1.]\n"
          ],
          "name": "stdout"
        }
      ]
    },
    {
      "cell_type": "code",
      "metadata": {
        "id": "0nAdyPodcrum",
        "outputId": "b55df4b7-2859-4848-a190-8f0c88d8d82a",
        "colab": {
          "base_uri": "https://localhost:8080/",
          "height": 51
        }
      },
      "source": [
        "a.add_(1)\n",
        "print(a)\n",
        "print(b)"
      ],
      "execution_count": null,
      "outputs": [
        {
          "output_type": "stream",
          "text": [
            "tensor([2., 2., 2., 2., 2.])\n",
            "[2. 2. 2. 2. 2.]\n"
          ],
          "name": "stdout"
        }
      ]
    },
    {
      "cell_type": "markdown",
      "metadata": {
        "id": "a7xkzBiudiQi"
      },
      "source": [
        "##### Converting NumPy Array to Torch Tensor"
      ]
    },
    {
      "cell_type": "code",
      "metadata": {
        "id": "tdNTPWhWc3Jg",
        "outputId": "c680e760-3780-4f17-8291-61d3191d5402",
        "colab": {
          "base_uri": "https://localhost:8080/",
          "height": 51
        }
      },
      "source": [
        "import numpy as np\n",
        "a = np.ones(5)\n",
        "b = torch.from_numpy(a)\n",
        "np.add(a, 1, out=a)\n",
        "print(a)\n",
        "print(b)"
      ],
      "execution_count": null,
      "outputs": [
        {
          "output_type": "stream",
          "text": [
            "[2. 2. 2. 2. 2.]\n",
            "tensor([2., 2., 2., 2., 2.], dtype=torch.float64)\n"
          ],
          "name": "stdout"
        }
      ]
    },
    {
      "cell_type": "markdown",
      "metadata": {
        "id": "hl5r2ZdLeFF-"
      },
      "source": [
        "### CUDA Tensors\n",
        "Tensors can be moved onto any device using the .to method."
      ]
    },
    {
      "cell_type": "code",
      "metadata": {
        "id": "8LJXi_9bd0c_"
      },
      "source": [
        "# let us run this cell only if CUDA is available\n",
        "# We will use ``torch.device`` objects to move tensors in and out of GPU\n",
        "if torch.cuda.is_available():\n",
        "    device = torch.device(\"cuda\")          # a CUDA device object\n",
        "    y = torch.ones_like(x, device=device)  # directly create a tensor on GPU\n",
        "    x = x.to(device)                       # or just use strings ``.to(\"cuda\")``\n",
        "    z = x + y\n",
        "    print(z)\n",
        "    print(z.to(\"cpu\", torch.double))       # ``.to`` can also change dtype together!"
      ],
      "execution_count": null,
      "outputs": []
    },
    {
      "cell_type": "code",
      "metadata": {
        "id": "-GpJUf6Vp8OI",
        "outputId": "f44ef77c-c78a-45ad-e9e0-66682aa96b2c",
        "colab": {
          "base_uri": "https://localhost:8080/",
          "height": 71
        }
      },
      "source": [
        "print(z)"
      ],
      "execution_count": null,
      "outputs": [
        {
          "output_type": "stream",
          "text": [
            "tensor([[ 0.1881, -0.7081, -0.3245,  0.1548,  0.9866,  0.1113, -0.7331,  0.6774],\n",
            "        [ 0.9803,  0.1498,  0.1074, -1.7490,  0.5579, -0.4199, -0.2811, -1.0627]])\n"
          ],
          "name": "stdout"
        }
      ]
    },
    {
      "cell_type": "code",
      "metadata": {
        "id": "YD4cHRp9qI--"
      },
      "source": [
        ""
      ],
      "execution_count": null,
      "outputs": []
    }
  ]
}